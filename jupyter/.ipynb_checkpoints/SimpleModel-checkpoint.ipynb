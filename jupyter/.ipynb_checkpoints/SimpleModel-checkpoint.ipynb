{
 "cells": [
  {
   "cell_type": "code",
   "execution_count": null,
   "metadata": {},
   "outputs": [],
   "source": [
    "import tensorflow as tf\n",
    "from numpy.random import multivariate_normal\n",
    "import matplotlib.pyplot as plt\n",
    "import numpy as np\n",
    "\n",
    "import seaborn as sns"
   ]
  },
  {
   "cell_type": "code",
   "execution_count": null,
   "metadata": {},
   "outputs": [],
   "source": [
    "# GENERATE THE DATA\n",
    "\n",
    "size = 1000\n",
    "ball_0 = multivariate_normal(mean=[-3,-3], cov=[[0, 0.5], [0.5, 0] ], size=size)\n",
    "ball_1 = multivariate_normal(mean=[3,3], cov=[[0, 0.5], [0.5, 0] ], size=size)\n",
    "\n",
    "plt.scatter(ball_0[:,0], ball_0[:,1])\n",
    "plt.scatter(ball_1[:,0], ball_1[:,1])\n",
    "plt.show()\n",
    "\n",
    "\n",
    "# "
   ]
  },
  {
   "cell_type": "code",
   "execution_count": null,
   "metadata": {},
   "outputs": [],
   "source": [
    "y_0 = [0] * size \n",
    "y_1 = [1] * size\n",
    "y = np.concatenate([y_0,y_1])[:,np.newaxis]\n",
    "X = np.concatenate([ball_0, ball_1])\n",
    "\n",
    "data = np.hstack([X,y])\n",
    "data.shape\n",
    "\n",
    "# permutate random\n",
    "np.random.shuffle(data)\n",
    "X = data[:,0:2]\n",
    "y = data[:,2]"
   ]
  },
  {
   "cell_type": "code",
   "execution_count": null,
   "metadata": {},
   "outputs": [],
   "source": [
    "X.shape"
   ]
  },
  {
   "cell_type": "code",
   "execution_count": null,
   "metadata": {},
   "outputs": [],
   "source": [
    "y.shape"
   ]
  },
  {
   "cell_type": "code",
   "execution_count": null,
   "metadata": {},
   "outputs": [],
   "source": [
    "x_train = X[0:1500,:]\n",
    "x_test = X[1500:,:]\n",
    "\n",
    "y_train = y[0:1500]\n",
    "y_train = y_train[:, np.newaxis]\n",
    "\n",
    "y_test = y[1500:]\n",
    "y_test = y_test[:, np.newaxis]"
   ]
  },
  {
   "cell_type": "code",
   "execution_count": null,
   "metadata": {},
   "outputs": [],
   "source": [
    "x_train.shape"
   ]
  },
  {
   "cell_type": "code",
   "execution_count": null,
   "metadata": {},
   "outputs": [],
   "source": [
    "x_test.shape"
   ]
  },
  {
   "cell_type": "code",
   "execution_count": null,
   "metadata": {},
   "outputs": [],
   "source": [
    "y_test.shape"
   ]
  },
  {
   "cell_type": "code",
   "execution_count": null,
   "metadata": {},
   "outputs": [],
   "source": [
    "x_tf = tf.placeholder(tf.float32, shape=(None, 2), name=\"x\")\n",
    "y_tf = tf.placeholder(tf.float32, shape=(None, 1), name=\"y\")\n",
    "\n",
    "linear_model = tf.layers.Dense(units=1)\n",
    "\n",
    "y_pred = linear_model(x_tf)\n",
    "loss = tf.losses.mean_squared_error(labels=y_tf, predictions=y_pred)\n",
    "\n",
    "optimizer = tf.train.GradientDescentOptimizer(0.01)\n",
    "train = optimizer.minimize(loss)\n",
    "\n",
    "init = tf.global_variables_initializer()\n",
    "\n",
    "sess = tf.Session()\n",
    "sess.run(init)\n",
    "for i in range(100):\n",
    "  _, loss_value = sess.run((train, loss), feed_dict={x_tf: x_train, y_tf: y_train})\n",
    "  # print(loss_value)"
   ]
  },
  {
   "cell_type": "code",
   "execution_count": null,
   "metadata": {},
   "outputs": [],
   "source": [
    "final_preds = sess.run(y_pred, feed_dict={x_tf: x_test})\n",
    "final_preds = final_preds.squeeze(axis=1)\n",
    "final_preds = final_preds <= 0.5\n"
   ]
  },
  {
   "cell_type": "code",
   "execution_count": null,
   "metadata": {},
   "outputs": [],
   "source": [
    "sns.scatterplot(x=x_test[:,0], y=x_test[:,1], hue=final_preds)\n",
    "plt.show()"
   ]
  },
  {
   "cell_type": "code",
   "execution_count": null,
   "metadata": {},
   "outputs": [],
   "source": [
    "x_grid = np"
   ]
  }
 ],
 "metadata": {
  "language_info": {
   "name": "python",
   "pygments_lexer": "ipython3"
  }
 },
 "nbformat": 4,
 "nbformat_minor": 2
}
