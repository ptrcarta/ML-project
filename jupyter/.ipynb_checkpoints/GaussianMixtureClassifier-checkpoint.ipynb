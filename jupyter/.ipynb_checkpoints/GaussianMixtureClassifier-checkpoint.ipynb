{
 "cells": [
  {
   "cell_type": "code",
   "execution_count": null,
   "metadata": {},
   "outputs": [],
   "source": [
    "import numpy as np\n",
    "import tensorflow as tf\n",
    "import matplotlib.pyplot as plt"
   ]
  },
  {
   "cell_type": "code",
   "execution_count": null,
   "metadata": {},
   "outputs": [],
   "source": [
    "N = 3000\n",
    "norm00 = np.random.multivariate_normal([0,0], [[.05,0],[0,.05]], size=N//2)\n",
    "norm11 = np.random.multivariate_normal([1.,1.], [[.05,0],[0,.05]], size=N//2)"
   ]
  },
  {
   "cell_type": "code",
   "execution_count": null,
   "metadata": {},
   "outputs": [],
   "source": [
    "labels_np = np.int64(np.hstack((np.zeros(norm00.shape[0]),\n",
    "                             np.ones(norm11.shape[0])\n",
    "                            )))\n",
    "features_np = np.float32(np.vstack((norm00, norm11)))\n",
    "data = np.hstack([features_np, labels_np[:,None]])\n",
    "np.random.shuffle(data)\n",
    "\n",
    "labels_np, features_np = np.intp(data[:,-1]), np.float32(data[:,:2])\n",
    "\n",
    "cut = N * 2 // 3\n",
    "features_training, labels_training = features_np[:cut], labels_np[:cut]\n",
    "features_testing, labels_testing = features_np[cut:], labels_np[cut:]"
   ]
  },
  {
   "cell_type": "code",
   "execution_count": null,
   "metadata": {},
   "outputs": [],
   "source": [
    "#build graph\n",
    "features = tf.placeholder(features_np.dtype, [None, 2])\n",
    "labels = tf.placeholder(labels_np.dtype, [None])\n",
    "labels_oh = tf.one_hot(labels, 2)\n",
    "\n",
    "def weight(shape):\n",
    "    return tf.Variable(tf.truncated_normal(shape = shape))\n",
    "\n",
    "def bias(shape):\n",
    "    return tf.Variable(tf.zeros(shape))\n",
    "\n",
    "fc1 = tf.nn.relu(features @ weight((2, 200)) + bias((200)))\n",
    "fc2 = tf.nn.relu(fc1 @ weight((200,200)) + bias((200)))\n",
    "logits = tf.nn.relu(fc2 @ weight((200, 2)) + bias((2)))\n",
    "\n",
    "loss = tf.losses.softmax_cross_entropy(labels_oh, logits)\n",
    "classification = tf.argmax(tf.nn.softmax(logits), axis=1)\n",
    "correct_classification = tf.equal(classification, labels)\n",
    "accuracy = tf.reduce_mean(tf.cast(correct_classification, tf.float32))\n",
    "\n",
    "train = tf.train.AdamOptimizer().minimize(loss)\n",
    "\n",
    "sess = tf.Session()\n",
    "sess.run(tf.global_variables_initializer())\n",
    "\n",
    "training_dict = {features:features_training, labels:labels_training}\n",
    "testing_dict = {features:features_testing, labels:labels_testing}\n",
    "\n",
    "for epoch in range(100):\n",
    "    sess.run([train], feed_dict=training_dict)\n",
    "    test_loss, test_acc = sess.run([loss, accuracy], feed_dict=testing_dict)\n",
    "    print('epoch', epoch, 'loss: %.6f accuracy: %.3f' % (test_loss, test_acc))"
   ]
  },
  {
   "cell_type": "code",
   "execution_count": null,
   "metadata": {},
   "outputs": [],
   "source": [
    "classes = sess.run(classification, feed_dict=testing_dict)\n",
    "plt.scatter(features_testing[:,0], features_testing[:,1], c = classes == labels_testing)"
   ]
  }
 ],
 "metadata": {
  "language_info": {
   "name": "python",
   "pygments_lexer": "ipython3"
  }
 },
 "nbformat": 4,
 "nbformat_minor": 2
}
