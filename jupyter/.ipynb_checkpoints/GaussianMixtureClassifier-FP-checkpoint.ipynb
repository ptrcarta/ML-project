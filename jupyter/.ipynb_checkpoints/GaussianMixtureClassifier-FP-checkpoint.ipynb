{
 "cells": [
  {
   "cell_type": "code",
   "execution_count": null,
   "metadata": {},
   "outputs": [],
   "source": [
    "import numpy as np\n",
    "import tensorflow as tf\n",
    "import matplotlib.pyplot as plt"
   ]
  },
  {
   "cell_type": "code",
   "execution_count": null,
   "metadata": {},
   "outputs": [],
   "source": [
    "#build the dataset\n",
    "\n",
    "N = 3000\n",
    "norm00 = np.random.multivariate_normal([0,0], [[.05,0],[0,.05]], size=N//2)\n",
    "norm11 = np.random.multivariate_normal([1.,1.], [[.05,0],[0,.05]], size=N//2)\n",
    "labels_np = np.int64(np.hstack((np.zeros(norm00.shape[0]),\n",
    "                             np.ones(norm11.shape[0])\n",
    "                            )))\n",
    "features_np = np.float32(np.vstack((norm00, norm11)))\n",
    "data = np.hstack([features_np, labels_np[:,None]])\n",
    "np.random.shuffle(data)\n",
    "\n",
    "labels_np, features_np = np.intp(data[:,-1]), np.float32(data[:,:2])\n",
    "\n",
    "cut = N * 2 // 3\n",
    "features_training, labels_training = features_np[:cut], labels_np[:cut]\n",
    "features_testing, labels_testing = features_np[cut:], labels_np[cut:]"
   ]
  },
  {
   "cell_type": "code",
   "execution_count": null,
   "metadata": {},
   "outputs": [],
   "source": [
    "#generate the fingerprints\n",
    "FP_NUM = 10\n",
    "EPS = 0.06\n",
    "alpha = 0.25\n",
    "beta = 0.75\n",
    "dx = np.random.rand(FP_NUM, features_np.shape[1])*EPS\n",
    "\n",
    "dy_train = -np.ones((2, 2))*alpha #2 is number of classes\n",
    "for i in range(2):\n",
    "    dy_train[i,i] = beta"
   ]
  },
  {
   "cell_type": "code",
   "execution_count": null,
   "metadata": {},
   "outputs": [],
   "source": [
    "#build graph\n",
    "features = tf.placeholder(features_np.dtype, [None, 2])\n",
    "labels = tf.placeholder(labels_np.dtype, [None])\n",
    "fp_dx = tf.placeholder(features_np.dtype, [FP_NUM, None, 2])\n",
    "fp_dy = tf.constant(dy_train)\n",
    "\n",
    "labels_oh = tf.one_hot(labels, 2)\n",
    "\n",
    "fc1 = tf.layers.Dense(units=200, activation='relu')\n",
    "fc2 = tf.layers.Dense(units=200, activation='relu')\n",
    "logits_out = tf.layers.Dense(units=2, activation='relu')\n",
    "\n",
    "# real data tensors\n",
    "logits = logits_out(fc2(fc1(features)))\n",
    "loss = tf.losses.softmax_cross_entropy(labels_oh, logits)\n",
    "probs = tf.nn.softmax(logits)\n",
    "classification = tf.argmax(probs, axis=1)\n",
    "correct_classification = tf.equal(classification, labels)\n",
    "accuracy = tf.reduce_mean(tf.cast(correct_classification, tf.float32))\n",
    "\n",
    "\n",
    "# fingerprint tensors\n",
    "perturbed = features + fp_dx\n",
    "fp_logits = logits_out(fc2(fc1(perturbed)))\n",
    "\n",
    "FxDx = tf.stack([logits/tf.norm(logits)]*FP_NUM) - fp_logits/tf.norm(fp_logits)\n",
    "Dy = tf.gather(fp_dy, labels)\n",
    "Dy = tf.stack([Dy]*FP_NUM)\n",
    "\n",
    "loss_fp = tf.losses.mean_squared_error(Dy, FxDx)\n",
    "\n",
    "train = tf.train.AdamOptimizer().minimize(loss + loss_fp)\n",
    "\n",
    "sess_no_fp = tf.Session()\n",
    "sess_no_fp.run(tf.global_variables_initializer())\n",
    "\n",
    "training_dict = {features:features_training, labels:labels_training, fp_dx:dx[:,np.newaxis,:]}\n",
    "testing_dict = {features:features_testing, labels:labels_testing, fp_dx:dx[:,np.newaxis,:]}\n",
    "\n",
    "acc = []\n",
    "for epoch in range(100):\n",
    "    sess_no_fp.run([train], feed_dict=training_dict)\n",
    "    test_loss, test_acc = sess_no_fp.run([loss, accuracy], feed_dict=testing_dict)\n",
    "    acc.append(test_acc)\n",
    "    print('epoch', epoch, 'loss: %.6f accuracy: %.3f' % (test_loss, test_acc))"
   ]
  },
  {
   "cell_type": "code",
   "execution_count": null,
   "metadata": {},
   "outputs": [],
   "source": [
    "classes = sess_no_fp.run(classification, feed_dict=testing_dict)\n",
    "x, y = np.mgrid[-1:2:0.005, -1:2:0.005]\n",
    "prob_c = sess_no_fp.run(probs > 0.5, feed_dict={features:np.dstack((x,y)).reshape((-1, 2))})[:,1]\n",
    "plt.contourf(x, y, prob_c.reshape(x.shape), cmap='gray');\n",
    "plt.colorbar()\n",
    "plt.scatter(features_testing[:,0], features_testing[:,1], c = labels_testing)"
   ]
  }
 ],
 "metadata": {
  "language_info": {
   "name": "python",
   "pygments_lexer": "ipython3"
  }
 },
 "nbformat": 4,
 "nbformat_minor": 2
}
