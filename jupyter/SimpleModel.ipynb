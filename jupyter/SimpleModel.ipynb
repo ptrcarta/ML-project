{
 "cells": [
  {
   "cell_type": "code",
   "execution_count": 48,
   "metadata": {},
   "outputs": [],
   "source": [
    "import tensorflow as tf\n",
    "from numpy.random import multivariate_normal\n",
    "import matplotlib.pyplot as plt\n",
    "import numpy as np\n",
    "import seaborn as sns\n",
    "\n",
    "from sklearn.preprocessing import OneHotEncoder"
   ]
  },
  {
   "cell_type": "code",
   "execution_count": 49,
   "metadata": {},
   "outputs": [
    {
     "data": {
      "image/png": "[encoded data removed]",
      "text/plain": [
       "<Figure size 432x288 with 1 Axes>"
      ]
     },
     "metadata": {
      "needs_background": "light"
     },
     "output_type": "display_data"
    }
   ],
   "source": [
    "# GENERATE THE DATA\n",
    "\n",
    "size = 1000\n",
    "ball_0 = multivariate_normal(mean=[-3,-3], cov=np.eye(2), size=size)\n",
    "ball_1 = multivariate_normal(mean=[3,3], cov=np.eye(2), size=size)\n",
    "\n",
    "plt.scatter(ball_0[:,0], ball_0[:,1])\n",
    "plt.scatter(ball_1[:,0], ball_1[:,1])\n",
    "plt.show()\n",
    "\n",
    "\n",
    "# "
   ]
  },
  {
   "cell_type": "code",
   "execution_count": 50,
   "metadata": {},
   "outputs": [],
   "source": [
    "def label_to_one_hot(labels):\n",
    "    enc = OneHotEncoder(categories='auto', sparse=False)\n",
    "    enc.fit(labels)\n",
    "    return enc.transform(labels)"
   ]
  },
  {
   "cell_type": "code",
   "execution_count": 51,
   "metadata": {},
   "outputs": [
    {
     "name": "stdout",
     "output_type": "stream",
     "text": [
      "(2000, 4)\n"
     ]
    }
   ],
   "source": [
    "y_0 = [0.0] * size \n",
    "y_1 = [1.0] * size\n",
    "y = np.concatenate([y_0, y_1])[:,np.newaxis]\n",
    "X = np.concatenate([ball_0, ball_1])\n",
    "y = label_to_one_hot(y)\n",
    "\n",
    "data = np.hstack([X,y])\n",
    "print(data.shape)\n",
    "\n",
    "# permutate random\n",
    "np.random.shuffle(data)\n",
    "X = data[:,0:2]\n",
    "y = data[:,2:]"
   ]
  },
  {
   "cell_type": "code",
   "execution_count": 52,
   "metadata": {},
   "outputs": [
    {
     "data": {
      "text/plain": [
       "(2000, 2)"
      ]
     },
     "execution_count": 52,
     "metadata": {},
     "output_type": "execute_result"
    }
   ],
   "source": [
    "y.shape"
   ]
  },
  {
   "cell_type": "code",
   "execution_count": 53,
   "metadata": {},
   "outputs": [
    {
     "data": {
      "text/plain": [
       "(2000, 2)"
      ]
     },
     "execution_count": 53,
     "metadata": {},
     "output_type": "execute_result"
    }
   ],
   "source": [
    "X.shape"
   ]
  },
  {
   "cell_type": "code",
   "execution_count": null,
   "metadata": {},
   "outputs": [],
   "source": []
  },
  {
   "cell_type": "code",
   "execution_count": 54,
   "metadata": {},
   "outputs": [],
   "source": [
    "NUM_TRAIN = 1500\n",
    "\n",
    "x_train = X[0:NUM_TRAIN,:]\n",
    "x_test = X[NUM_TRAIN:,:]\n",
    "\n",
    "y_train = y[0:NUM_TRAIN]\n",
    "\n",
    "y_test = y[NUM_TRAIN:]"
   ]
  },
  {
   "cell_type": "code",
   "execution_count": 55,
   "metadata": {},
   "outputs": [
    {
     "data": {
      "text/plain": [
       "(1500, 2)"
      ]
     },
     "execution_count": 55,
     "metadata": {},
     "output_type": "execute_result"
    }
   ],
   "source": [
    "x_train.shape"
   ]
  },
  {
   "cell_type": "code",
   "execution_count": 56,
   "metadata": {},
   "outputs": [
    {
     "data": {
      "text/plain": [
       "(500, 2)"
      ]
     },
     "execution_count": 56,
     "metadata": {},
     "output_type": "execute_result"
    }
   ],
   "source": [
    "x_test.shape"
   ]
  },
  {
   "cell_type": "code",
   "execution_count": 57,
   "metadata": {},
   "outputs": [
    {
     "data": {
      "text/plain": [
       "(500, 2)"
      ]
     },
     "execution_count": 57,
     "metadata": {},
     "output_type": "execute_result"
    }
   ],
   "source": [
    "y_test.shape"
   ]
  },
  {
   "cell_type": "code",
   "execution_count": 58,
   "metadata": {},
   "outputs": [
    {
     "name": "stdout",
     "output_type": "stream",
     "text": [
      "fp_dx\n",
      "[array([[0.02033137, 0.03028948]]), array([[0.08586118, 0.07544403]]), array([[0.08249785, 0.00465539]]), array([[0.03542481, 0.00866537]])]\n",
      "fp_dy\n",
      "[[ 0.7    -0.2357]\n",
      " [-0.2357  0.7   ]]\n"
     ]
    }
   ],
   "source": [
    "NUM_FP = 4\n",
    "FP_EPS = 0.1\n",
    "NUM_CLASSES = 2\n",
    "NUM_FEATURES = 2\n",
    "\n",
    "# dx is input distortion, number of dxs is equal to number of unique fingerprints\n",
    "fp_dx = [np.random.rand(1, NUM_FEATURES) * FP_EPS for i in range(NUM_FP)]\n",
    "\n",
    "# In paper, dy's are the same for each dx, so dy, and they are distortion to logits\n",
    "# since logits dimension is NUM_CLASSES and we need NUM_CLASSES dy definitions (one\n",
    "# dy for each class), dy dimension will be NUM_CLASSESS x NUM_CLASSES\n",
    "\n",
    "# Details in paper, section 2.3 (choosing dys)\n",
    "fp_dy = -0.2357*np.ones((NUM_CLASSES, NUM_CLASSES))\n",
    "for cl in range(NUM_CLASSES):\n",
    "    fp_dy[cl, cl] = 0.7\n",
    "\n",
    "print('fp_dx')\n",
    "print(fp_dx)\n",
    "print('fp_dy')\n",
    "print(fp_dy)"
   ]
  },
  {
   "cell_type": "code",
   "execution_count": 59,
   "metadata": {},
   "outputs": [],
   "source": [
    "# Fingerprint training example/label pairs\n",
    "\n",
    "x_train_fp = np.zeros((NUM_FP, NUM_TRAIN, NUM_FEATURES), dtype=np.float32)\n",
    "for i in range(NUM_FP):\n",
    "    x_train_fp[i] = x_train + fp_dx[i]\n",
    "\n",
    "y_train_fp = np.zeros((NUM_FP, NUM_TRAIN, NUM_CLASSES), dtype=np.float32)\n",
    "for i in range(NUM_FP):\n",
    "    for j in range(NUM_TRAIN):\n",
    "        y_train_fp[i][j] = fp_dy[np.argwhere(y_train[j] == float(1))[0][0]]"
   ]
  },
  {
   "cell_type": "code",
   "execution_count": 60,
   "metadata": {},
   "outputs": [
    {
     "name": "stdout",
     "output_type": "stream",
     "text": [
      "[[0. 1.]\n",
      " [1. 0.]\n",
      " [1. 0.]\n",
      " [0. 1.]\n",
      " [0. 1.]]\n",
      "[[-0.2357  0.7   ]\n",
      " [ 0.7    -0.2357]\n",
      " [ 0.7    -0.2357]\n",
      " [-0.2357  0.7   ]\n",
      " [-0.2357  0.7   ]]\n"
     ]
    }
   ],
   "source": [
    "print(y_train[0:5])\n",
    "print(y_train_fp[0][0:5])"
   ]
  },
  {
   "cell_type": "code",
   "execution_count": 62,
   "metadata": {},
   "outputs": [
    {
     "ename": "TypeError",
     "evalue": "Error converting shape to a TensorShape: Tensor objects are only iterable when eager execution is enabled. To iterate over this tensor use tf.map_fn..",
     "output_type": "error",
     "traceback": [
      "\u001b[0;31m---------------------------------------------------------------------------\u001b[0m",
      "\u001b[0;31mTypeError\u001b[0m                                 Traceback (most recent call last)",
      "\u001b[0;32m~/anaconda3/envs/epfl-ml/lib/python3.6/site-packages/tensorflow/python/eager/execute.py\u001b[0m in \u001b[0;36mmake_shape\u001b[0;34m(v, arg_name)\u001b[0m\n\u001b[1;32m    140\u001b[0m   \u001b[0;32mtry\u001b[0m\u001b[0;34m:\u001b[0m\u001b[0;34m\u001b[0m\u001b[0;34m\u001b[0m\u001b[0m\n\u001b[0;32m--> 141\u001b[0;31m     \u001b[0mshape\u001b[0m \u001b[0;34m=\u001b[0m \u001b[0mtensor_shape\u001b[0m\u001b[0;34m.\u001b[0m\u001b[0mas_shape\u001b[0m\u001b[0;34m(\u001b[0m\u001b[0mv\u001b[0m\u001b[0;34m)\u001b[0m\u001b[0;34m\u001b[0m\u001b[0;34m\u001b[0m\u001b[0m\n\u001b[0m\u001b[1;32m    142\u001b[0m   \u001b[0;32mexcept\u001b[0m \u001b[0mTypeError\u001b[0m \u001b[0;32mas\u001b[0m \u001b[0me\u001b[0m\u001b[0;34m:\u001b[0m\u001b[0;34m\u001b[0m\u001b[0;34m\u001b[0m\u001b[0m\n",
      "\u001b[0;32m~/anaconda3/envs/epfl-ml/lib/python3.6/site-packages/tensorflow/python/framework/tensor_shape.py\u001b[0m in \u001b[0;36mas_shape\u001b[0;34m(shape)\u001b[0m\n\u001b[1;32m    946\u001b[0m   \u001b[0;32melse\u001b[0m\u001b[0;34m:\u001b[0m\u001b[0;34m\u001b[0m\u001b[0;34m\u001b[0m\u001b[0m\n\u001b[0;32m--> 947\u001b[0;31m     \u001b[0;32mreturn\u001b[0m \u001b[0mTensorShape\u001b[0m\u001b[0;34m(\u001b[0m\u001b[0mshape\u001b[0m\u001b[0;34m)\u001b[0m\u001b[0;34m\u001b[0m\u001b[0;34m\u001b[0m\u001b[0m\n\u001b[0m\u001b[1;32m    948\u001b[0m \u001b[0;34m\u001b[0m\u001b[0m\n",
      "\u001b[0;32m~/anaconda3/envs/epfl-ml/lib/python3.6/site-packages/tensorflow/python/framework/tensor_shape.py\u001b[0m in \u001b[0;36m__init__\u001b[0;34m(self, dims)\u001b[0m\n\u001b[1;32m    541\u001b[0m         \u001b[0;31m# Got a list of dimensions\u001b[0m\u001b[0;34m\u001b[0m\u001b[0;34m\u001b[0m\u001b[0;34m\u001b[0m\u001b[0m\n\u001b[0;32m--> 542\u001b[0;31m         \u001b[0mself\u001b[0m\u001b[0;34m.\u001b[0m\u001b[0m_dims\u001b[0m \u001b[0;34m=\u001b[0m \u001b[0;34m[\u001b[0m\u001b[0mas_dimension\u001b[0m\u001b[0;34m(\u001b[0m\u001b[0md\u001b[0m\u001b[0;34m)\u001b[0m \u001b[0;32mfor\u001b[0m \u001b[0md\u001b[0m \u001b[0;32min\u001b[0m \u001b[0mdims_iter\u001b[0m\u001b[0;34m]\u001b[0m\u001b[0;34m\u001b[0m\u001b[0;34m\u001b[0m\u001b[0m\n\u001b[0m\u001b[1;32m    543\u001b[0m     \u001b[0mself\u001b[0m\u001b[0;34m.\u001b[0m\u001b[0m_ndims\u001b[0m \u001b[0;34m=\u001b[0m \u001b[0;32mNone\u001b[0m\u001b[0;34m\u001b[0m\u001b[0;34m\u001b[0m\u001b[0m\n",
      "\u001b[0;32m~/anaconda3/envs/epfl-ml/lib/python3.6/site-packages/tensorflow/python/framework/tensor_shape.py\u001b[0m in \u001b[0;36m<listcomp>\u001b[0;34m(.0)\u001b[0m\n\u001b[1;32m    541\u001b[0m         \u001b[0;31m# Got a list of dimensions\u001b[0m\u001b[0;34m\u001b[0m\u001b[0;34m\u001b[0m\u001b[0;34m\u001b[0m\u001b[0m\n\u001b[0;32m--> 542\u001b[0;31m         \u001b[0mself\u001b[0m\u001b[0;34m.\u001b[0m\u001b[0m_dims\u001b[0m \u001b[0;34m=\u001b[0m \u001b[0;34m[\u001b[0m\u001b[0mas_dimension\u001b[0m\u001b[0;34m(\u001b[0m\u001b[0md\u001b[0m\u001b[0;34m)\u001b[0m \u001b[0;32mfor\u001b[0m \u001b[0md\u001b[0m \u001b[0;32min\u001b[0m \u001b[0mdims_iter\u001b[0m\u001b[0;34m]\u001b[0m\u001b[0;34m\u001b[0m\u001b[0;34m\u001b[0m\u001b[0m\n\u001b[0m\u001b[1;32m    543\u001b[0m     \u001b[0mself\u001b[0m\u001b[0;34m.\u001b[0m\u001b[0m_ndims\u001b[0m \u001b[0;34m=\u001b[0m \u001b[0;32mNone\u001b[0m\u001b[0;34m\u001b[0m\u001b[0;34m\u001b[0m\u001b[0m\n",
      "\u001b[0;32m~/anaconda3/envs/epfl-ml/lib/python3.6/site-packages/tensorflow/python/framework/ops.py\u001b[0m in \u001b[0;36m__iter__\u001b[0;34m(self)\u001b[0m\n\u001b[1;32m    456\u001b[0m       raise TypeError(\n\u001b[0;32m--> 457\u001b[0;31m           \u001b[0;34m\"Tensor objects are only iterable when eager execution is \"\u001b[0m\u001b[0;34m\u001b[0m\u001b[0;34m\u001b[0m\u001b[0m\n\u001b[0m\u001b[1;32m    458\u001b[0m           \"enabled. To iterate over this tensor use tf.map_fn.\")\n",
      "\u001b[0;31mTypeError\u001b[0m: Tensor objects are only iterable when eager execution is enabled. To iterate over this tensor use tf.map_fn.",
      "\nDuring handling of the above exception, another exception occurred:\n",
      "\u001b[0;31mTypeError\u001b[0m                                 Traceback (most recent call last)",
      "\u001b[0;32m<ipython-input-62-f1adcdf995e9>\u001b[0m in \u001b[0;36m<module>\u001b[0;34m\u001b[0m\n\u001b[1;32m      9\u001b[0m \u001b[0;34m\u001b[0m\u001b[0m\n\u001b[1;32m     10\u001b[0m \u001b[0mfp_shape_tenor\u001b[0m\u001b[0;34m\u001b[0m\u001b[0;34m\u001b[0m\u001b[0m\n\u001b[0;32m---> 11\u001b[0;31m \u001b[0mx_fp_tf\u001b[0m \u001b[0;34m=\u001b[0m \u001b[0mtf\u001b[0m\u001b[0;34m.\u001b[0m\u001b[0mplaceholder\u001b[0m\u001b[0;34m(\u001b[0m\u001b[0mtf\u001b[0m\u001b[0;34m.\u001b[0m\u001b[0mfloat32\u001b[0m\u001b[0;34m,\u001b[0m \u001b[0mshape\u001b[0m\u001b[0;34m=\u001b[0m\u001b[0mfp_shape_tenor\u001b[0m\u001b[0;34m,\u001b[0m \u001b[0mname\u001b[0m\u001b[0;34m=\u001b[0m\u001b[0;34m\"x_fp\"\u001b[0m\u001b[0;34m)\u001b[0m\u001b[0;34m\u001b[0m\u001b[0;34m\u001b[0m\u001b[0m\n\u001b[0m\u001b[1;32m     12\u001b[0m \u001b[0mx_fp_tf\u001b[0m\u001b[0;34m\u001b[0m\u001b[0;34m\u001b[0m\u001b[0m\n",
      "\u001b[0;32m~/anaconda3/envs/epfl-ml/lib/python3.6/site-packages/tensorflow/python/ops/array_ops.py\u001b[0m in \u001b[0;36mplaceholder\u001b[0;34m(dtype, shape, name)\u001b[0m\n\u001b[1;32m   1743\u001b[0m                        \"eager execution.\")\n\u001b[1;32m   1744\u001b[0m \u001b[0;34m\u001b[0m\u001b[0m\n\u001b[0;32m-> 1745\u001b[0;31m   \u001b[0;32mreturn\u001b[0m \u001b[0mgen_array_ops\u001b[0m\u001b[0;34m.\u001b[0m\u001b[0mplaceholder\u001b[0m\u001b[0;34m(\u001b[0m\u001b[0mdtype\u001b[0m\u001b[0;34m=\u001b[0m\u001b[0mdtype\u001b[0m\u001b[0;34m,\u001b[0m \u001b[0mshape\u001b[0m\u001b[0;34m=\u001b[0m\u001b[0mshape\u001b[0m\u001b[0;34m,\u001b[0m \u001b[0mname\u001b[0m\u001b[0;34m=\u001b[0m\u001b[0mname\u001b[0m\u001b[0;34m)\u001b[0m\u001b[0;34m\u001b[0m\u001b[0;34m\u001b[0m\u001b[0m\n\u001b[0m\u001b[1;32m   1746\u001b[0m \u001b[0;34m\u001b[0m\u001b[0m\n\u001b[1;32m   1747\u001b[0m \u001b[0;34m\u001b[0m\u001b[0m\n",
      "\u001b[0;32m~/anaconda3/envs/epfl-ml/lib/python3.6/site-packages/tensorflow/python/ops/gen_array_ops.py\u001b[0m in \u001b[0;36mplaceholder\u001b[0;34m(dtype, shape, name)\u001b[0m\n\u001b[1;32m   5016\u001b[0m     \u001b[0;32mif\u001b[0m \u001b[0mshape\u001b[0m \u001b[0;32mis\u001b[0m \u001b[0;32mNone\u001b[0m\u001b[0;34m:\u001b[0m\u001b[0;34m\u001b[0m\u001b[0;34m\u001b[0m\u001b[0m\n\u001b[1;32m   5017\u001b[0m       \u001b[0mshape\u001b[0m \u001b[0;34m=\u001b[0m \u001b[0;32mNone\u001b[0m\u001b[0;34m\u001b[0m\u001b[0;34m\u001b[0m\u001b[0m\n\u001b[0;32m-> 5018\u001b[0;31m     \u001b[0mshape\u001b[0m \u001b[0;34m=\u001b[0m \u001b[0m_execute\u001b[0m\u001b[0;34m.\u001b[0m\u001b[0mmake_shape\u001b[0m\u001b[0;34m(\u001b[0m\u001b[0mshape\u001b[0m\u001b[0;34m,\u001b[0m \u001b[0;34m\"shape\"\u001b[0m\u001b[0;34m)\u001b[0m\u001b[0;34m\u001b[0m\u001b[0;34m\u001b[0m\u001b[0m\n\u001b[0m\u001b[1;32m   5019\u001b[0m     _, _, _op = _op_def_lib._apply_op_helper(\n\u001b[1;32m   5020\u001b[0m         \"Placeholder\", dtype=dtype, shape=shape, name=name)\n",
      "\u001b[0;32m~/anaconda3/envs/epfl-ml/lib/python3.6/site-packages/tensorflow/python/eager/execute.py\u001b[0m in \u001b[0;36mmake_shape\u001b[0;34m(v, arg_name)\u001b[0m\n\u001b[1;32m    141\u001b[0m     \u001b[0mshape\u001b[0m \u001b[0;34m=\u001b[0m \u001b[0mtensor_shape\u001b[0m\u001b[0;34m.\u001b[0m\u001b[0mas_shape\u001b[0m\u001b[0;34m(\u001b[0m\u001b[0mv\u001b[0m\u001b[0;34m)\u001b[0m\u001b[0;34m\u001b[0m\u001b[0;34m\u001b[0m\u001b[0m\n\u001b[1;32m    142\u001b[0m   \u001b[0;32mexcept\u001b[0m \u001b[0mTypeError\u001b[0m \u001b[0;32mas\u001b[0m \u001b[0me\u001b[0m\u001b[0;34m:\u001b[0m\u001b[0;34m\u001b[0m\u001b[0;34m\u001b[0m\u001b[0m\n\u001b[0;32m--> 143\u001b[0;31m     \u001b[0;32mraise\u001b[0m \u001b[0mTypeError\u001b[0m\u001b[0;34m(\u001b[0m\u001b[0;34m\"Error converting %s to a TensorShape: %s.\"\u001b[0m \u001b[0;34m%\u001b[0m \u001b[0;34m(\u001b[0m\u001b[0marg_name\u001b[0m\u001b[0;34m,\u001b[0m \u001b[0me\u001b[0m\u001b[0;34m)\u001b[0m\u001b[0;34m)\u001b[0m\u001b[0;34m\u001b[0m\u001b[0;34m\u001b[0m\u001b[0m\n\u001b[0m\u001b[1;32m    144\u001b[0m   \u001b[0;32mexcept\u001b[0m \u001b[0mValueError\u001b[0m \u001b[0;32mas\u001b[0m \u001b[0me\u001b[0m\u001b[0;34m:\u001b[0m\u001b[0;34m\u001b[0m\u001b[0;34m\u001b[0m\u001b[0m\n\u001b[1;32m    145\u001b[0m     raise ValueError(\"Error converting %s to a TensorShape: %s.\" % (arg_name,\n",
      "\u001b[0;31mTypeError\u001b[0m: Error converting shape to a TensorShape: Tensor objects are only iterable when eager execution is enabled. To iterate over this tensor use tf.map_fn.."
     ]
    }
   ],
   "source": [
    "x_tf = tf.placeholder(tf.float32, shape=(None, NUM_FEATURES), name=\"x\")\n",
    "y_tf = tf.placeholder(tf.float32, shape=(None, NUM_CLASSES), name=\"y\")\n",
    "\n",
    "fp_shape_tenor = tf.stack([\n",
    "    tf.constant(NUM_FP),\n",
    "    tf.shape(x_tf)[0],\n",
    "    tf.constant(NUM_FEATURES)\n",
    "])\n",
    "\n",
    "fp_shape_tenor\n",
    "x_fp_tf = tf.placeholder(tf.float32, shape=fp_shape_tenor, name=\"x_fp\")\n",
    "x_fp_tf"
   ]
  },
  {
   "cell_type": "code",
   "execution_count": 81,
   "metadata": {},
   "outputs": [
    {
     "name": "stdout",
     "output_type": "stream",
     "text": [
      "[1.0296725 1.112787  1.1113985 ... 1.1439226 1.0133296 1.0217359]\n",
      "[0.5924156  0.5164542  0.4833778  ... 0.4202724  0.5033759  0.44597483]\n",
      "[0.38377005 0.2992553  0.2956632  ... 0.28185707 0.31410408 0.29334557]\n",
      "[0.3115734  0.27573475 0.27536255 ... 0.2733864  0.28014234 0.27527064]\n",
      "[0.2865065  0.27315333 0.27310804 ... 0.27282032 0.27423927 0.27312306]\n",
      "[0.2778834  0.27282807 0.27282044 ... 0.27277502 0.27308717 0.27282533]\n",
      "[0.27478814 0.27278018 0.27277875 ... 0.27277076 0.27284503 0.27277994]\n",
      "[0.27361023 0.27277207 0.27277184 ... 0.2727704  0.272789   0.27277207]\n",
      "[0.2731387  0.27277064 0.27277064 ... 0.2727703  0.2727753  0.27277064]\n",
      "[0.27293968 0.2727704  0.2727704  ... 0.2727703  0.27277172 0.2727704 ]\n",
      "[0.2728517  0.2727703  0.2727703  ... 0.2727703  0.27277076 0.2727703 ]\n",
      "[0.27281117 0.2727703  0.2727703  ... 0.2727703  0.2727704  0.2727703 ]\n",
      "[0.27279174 0.2727703  0.2727703  ... 0.2727703  0.2727703  0.2727703 ]\n",
      "[0.27278197 0.2727703  0.2727703  ... 0.2727703  0.2727703  0.2727703 ]\n",
      "[0.27277684 0.2727703  0.2727703  ... 0.2727703  0.2727703  0.2727703 ]\n",
      "[0.2727741 0.2727703 0.2727703 ... 0.2727703 0.2727703 0.2727703]\n",
      "[0.27277255 0.2727703  0.2727703  ... 0.2727703  0.2727703  0.2727703 ]\n",
      "[0.27277172 0.2727703  0.2727703  ... 0.2727703  0.2727703  0.2727703 ]\n",
      "[0.27277112 0.2727703  0.2727703  ... 0.2727703  0.2727703  0.2727703 ]\n",
      "[0.27277088 0.2727703  0.2727703  ... 0.2727703  0.2727703  0.2727703 ]\n",
      "[0.27277064 0.2727703  0.2727703  ... 0.2727703  0.2727703  0.2727703 ]\n",
      "[0.27277052 0.2727703  0.2727703  ... 0.2727703  0.2727703  0.2727703 ]\n",
      "[0.2727704 0.2727703 0.2727703 ... 0.2727703 0.2727703 0.2727703]\n",
      "[0.2727704 0.2727703 0.2727703 ... 0.2727703 0.2727703 0.2727703]\n",
      "[0.2727704 0.2727703 0.2727703 ... 0.2727703 0.2727703 0.2727703]\n",
      "[0.2727704 0.2727703 0.2727703 ... 0.2727703 0.2727703 0.2727703]\n",
      "[0.2727703 0.2727703 0.2727703 ... 0.2727703 0.2727703 0.2727703]\n",
      "[0.2727703 0.2727703 0.2727703 ... 0.2727703 0.2727703 0.2727703]\n",
      "[0.2727703 0.2727703 0.2727703 ... 0.2727703 0.2727703 0.2727703]\n",
      "[0.2727703 0.2727703 0.2727703 ... 0.2727703 0.2727703 0.2727703]\n",
      "[0.2727703 0.2727703 0.2727703 ... 0.2727703 0.2727703 0.2727703]\n",
      "[0.2727703 0.2727703 0.2727703 ... 0.2727703 0.2727703 0.2727703]\n",
      "[0.2727703 0.2727703 0.2727703 ... 0.2727703 0.2727703 0.2727703]\n",
      "[0.2727703 0.2727703 0.2727703 ... 0.2727703 0.2727703 0.2727703]\n",
      "[0.2727703 0.2727703 0.2727703 ... 0.2727703 0.2727703 0.2727703]\n",
      "[0.2727703 0.2727703 0.2727703 ... 0.2727703 0.2727703 0.2727703]\n",
      "[0.2727703 0.2727703 0.2727703 ... 0.2727703 0.2727703 0.2727703]\n",
      "[0.2727703 0.2727703 0.2727703 ... 0.2727703 0.2727703 0.2727703]\n",
      "[0.2727703 0.2727703 0.2727703 ... 0.2727703 0.2727703 0.2727703]\n",
      "[0.2727703 0.2727703 0.2727703 ... 0.2727703 0.2727703 0.2727703]\n",
      "[0.2727703 0.2727703 0.2727703 ... 0.2727703 0.2727703 0.2727703]\n",
      "[0.2727703 0.2727703 0.2727703 ... 0.2727703 0.2727703 0.2727703]\n",
      "[0.2727703 0.2727703 0.2727703 ... 0.2727703 0.2727703 0.2727703]\n",
      "[0.2727703 0.2727703 0.2727703 ... 0.2727703 0.2727703 0.2727703]\n",
      "[0.2727703 0.2727703 0.2727703 ... 0.2727703 0.2727703 0.2727703]\n",
      "[0.2727703 0.2727703 0.2727703 ... 0.2727703 0.2727703 0.2727703]\n",
      "[0.2727703 0.2727703 0.2727703 ... 0.2727703 0.2727703 0.2727703]\n",
      "[0.2727703 0.2727703 0.2727703 ... 0.2727703 0.2727703 0.2727703]\n",
      "[0.2727703 0.2727703 0.2727703 ... 0.2727703 0.2727703 0.2727703]\n",
      "[0.2727703 0.2727703 0.2727703 ... 0.2727703 0.2727703 0.2727703]\n",
      "[0.2727703 0.2727703 0.2727703 ... 0.2727703 0.2727703 0.2727703]\n",
      "[0.2727703 0.2727703 0.2727703 ... 0.2727703 0.2727703 0.2727703]\n",
      "[0.2727703 0.2727703 0.2727703 ... 0.2727703 0.2727703 0.2727703]\n",
      "[0.2727703 0.2727703 0.2727703 ... 0.2727703 0.2727703 0.2727703]\n",
      "[0.2727703 0.2727703 0.2727703 ... 0.2727703 0.2727703 0.2727703]\n",
      "[0.2727703 0.2727703 0.2727703 ... 0.2727703 0.2727703 0.2727703]\n",
      "[0.2727703 0.2727703 0.2727703 ... 0.2727703 0.2727703 0.2727703]\n",
      "[0.2727703 0.2727703 0.2727703 ... 0.2727703 0.2727703 0.2727703]\n",
      "[0.2727703 0.2727703 0.2727703 ... 0.2727703 0.2727703 0.2727703]\n",
      "[0.2727703 0.2727703 0.2727703 ... 0.2727703 0.2727703 0.2727703]\n",
      "[0.2727703 0.2727703 0.2727703 ... 0.2727703 0.2727703 0.2727703]\n",
      "[0.2727703 0.2727703 0.2727703 ... 0.2727703 0.2727703 0.2727703]\n",
      "[0.2727703 0.2727703 0.2727703 ... 0.2727703 0.2727703 0.2727703]\n",
      "[0.2727703 0.2727703 0.2727703 ... 0.2727703 0.2727703 0.2727703]\n",
      "[0.2727703 0.2727703 0.2727703 ... 0.2727703 0.2727703 0.2727703]\n",
      "[0.2727703 0.2727703 0.2727703 ... 0.2727703 0.2727703 0.2727703]\n",
      "[0.2727703 0.2727703 0.2727703 ... 0.2727703 0.2727703 0.2727703]\n",
      "[0.2727703 0.2727703 0.2727703 ... 0.2727703 0.2727703 0.2727703]\n",
      "[0.2727703 0.2727703 0.2727703 ... 0.2727703 0.2727703 0.2727703]\n",
      "[0.2727703 0.2727703 0.2727703 ... 0.2727703 0.2727703 0.2727703]\n",
      "[0.2727703 0.2727703 0.2727703 ... 0.2727703 0.2727703 0.2727703]\n",
      "[0.2727703 0.2727703 0.2727703 ... 0.2727703 0.2727703 0.2727703]\n",
      "[0.2727703 0.2727703 0.2727703 ... 0.2727703 0.2727703 0.2727703]\n",
      "[0.2727703 0.2727703 0.2727703 ... 0.2727703 0.2727703 0.2727703]\n",
      "[0.2727703 0.2727703 0.2727703 ... 0.2727703 0.2727703 0.2727703]\n",
      "[0.2727703 0.2727703 0.2727703 ... 0.2727703 0.2727703 0.2727703]\n",
      "[0.2727703 0.2727703 0.2727703 ... 0.2727703 0.2727703 0.2727703]\n",
      "[0.2727703 0.2727703 0.2727703 ... 0.2727703 0.2727703 0.2727703]\n",
      "[0.2727703 0.2727703 0.2727703 ... 0.2727703 0.2727703 0.2727703]\n",
      "[0.2727703 0.2727703 0.2727703 ... 0.2727703 0.2727703 0.2727703]\n",
      "[0.2727703 0.2727703 0.2727703 ... 0.2727703 0.2727703 0.2727703]\n",
      "[0.2727703 0.2727703 0.2727703 ... 0.2727703 0.2727703 0.2727703]\n",
      "[0.2727703 0.2727703 0.2727703 ... 0.2727703 0.2727703 0.2727703]\n",
      "[0.2727703 0.2727703 0.2727703 ... 0.2727703 0.2727703 0.2727703]\n",
      "[0.2727703 0.2727703 0.2727703 ... 0.2727703 0.2727703 0.2727703]\n",
      "[0.2727703 0.2727703 0.2727703 ... 0.2727703 0.2727703 0.2727703]\n",
      "[0.2727703 0.2727703 0.2727703 ... 0.2727703 0.2727703 0.2727703]\n",
      "[0.2727703 0.2727703 0.2727703 ... 0.2727703 0.2727703 0.2727703]\n",
      "[0.2727703 0.2727703 0.2727703 ... 0.2727703 0.2727703 0.2727703]\n",
      "[0.2727703 0.2727703 0.2727703 ... 0.2727703 0.2727703 0.2727703]\n",
      "[0.2727703 0.2727703 0.2727703 ... 0.2727703 0.2727703 0.2727703]\n",
      "[0.2727703 0.2727703 0.2727703 ... 0.2727703 0.2727703 0.2727703]\n",
      "[0.2727703 0.2727703 0.2727703 ... 0.2727703 0.2727703 0.2727703]\n",
      "[0.2727703 0.2727703 0.2727703 ... 0.2727703 0.2727703 0.2727703]\n",
      "[0.2727703 0.2727703 0.2727703 ... 0.2727703 0.2727703 0.2727703]\n",
      "[0.2727703 0.2727703 0.2727703 ... 0.2727703 0.2727703 0.2727703]\n",
      "[0.2727703 0.2727703 0.2727703 ... 0.2727703 0.2727703 0.2727703]\n",
      "[0.2727703 0.2727703 0.2727703 ... 0.2727703 0.2727703 0.2727703]\n",
      "[0.2727703 0.2727703 0.2727703 ... 0.2727703 0.2727703 0.2727703]\n",
      "[0.2727703 0.2727703 0.2727703 ... 0.2727703 0.2727703 0.2727703]\n",
      "[0.2727703 0.2727703 0.2727703 ... 0.2727703 0.2727703 0.2727703]\n",
      "[0.2727703 0.2727703 0.2727703 ... 0.2727703 0.2727703 0.2727703]\n",
      "[0.2727703 0.2727703 0.2727703 ... 0.2727703 0.2727703 0.2727703]\n",
      "[0.2727703 0.2727703 0.2727703 ... 0.2727703 0.2727703 0.2727703]\n",
      "[0.2727703 0.2727703 0.2727703 ... 0.2727703 0.2727703 0.2727703]\n",
      "[0.2727703 0.2727703 0.2727703 ... 0.2727703 0.2727703 0.2727703]\n",
      "[0.2727703 0.2727703 0.2727703 ... 0.2727703 0.2727703 0.2727703]\n",
      "[0.2727703 0.2727703 0.2727703 ... 0.2727703 0.2727703 0.2727703]\n",
      "[0.2727703 0.2727703 0.2727703 ... 0.2727703 0.2727703 0.2727703]\n",
      "[0.2727703 0.2727703 0.2727703 ... 0.2727703 0.2727703 0.2727703]\n",
      "[0.2727703 0.2727703 0.2727703 ... 0.2727703 0.2727703 0.2727703]\n",
      "[0.2727703 0.2727703 0.2727703 ... 0.2727703 0.2727703 0.2727703]\n",
      "[0.2727703 0.2727703 0.2727703 ... 0.2727703 0.2727703 0.2727703]\n",
      "[0.2727703 0.2727703 0.2727703 ... 0.2727703 0.2727703 0.2727703]\n",
      "[0.2727703 0.2727703 0.2727703 ... 0.2727703 0.2727703 0.2727703]\n",
      "[0.2727703 0.2727703 0.2727703 ... 0.2727703 0.2727703 0.2727703]\n",
      "[0.2727703 0.2727703 0.2727703 ... 0.2727703 0.2727703 0.2727703]\n",
      "[0.2727703 0.2727703 0.2727703 ... 0.2727703 0.2727703 0.2727703]\n",
      "[0.2727703 0.2727703 0.2727703 ... 0.2727703 0.2727703 0.2727703]\n",
      "[0.2727703 0.2727703 0.2727703 ... 0.2727703 0.2727703 0.2727703]\n",
      "[0.2727703 0.2727703 0.2727703 ... 0.2727703 0.2727703 0.2727703]\n",
      "[0.2727703 0.2727703 0.2727703 ... 0.2727703 0.2727703 0.2727703]\n",
      "[0.2727703 0.2727703 0.2727703 ... 0.2727703 0.2727703 0.2727703]\n",
      "[0.2727703 0.2727703 0.2727703 ... 0.2727703 0.2727703 0.2727703]\n",
      "[0.2727703 0.2727703 0.2727703 ... 0.2727703 0.2727703 0.2727703]\n",
      "[0.2727703 0.2727703 0.2727703 ... 0.2727703 0.2727703 0.2727703]\n",
      "[0.2727703 0.2727703 0.2727703 ... 0.2727703 0.2727703 0.2727703]\n"
     ]
    },
    {
     "name": "stdout",
     "output_type": "stream",
     "text": [
      "[0.2727703 0.2727703 0.2727703 ... 0.2727703 0.2727703 0.2727703]\n",
      "[0.2727703 0.2727703 0.2727703 ... 0.2727703 0.2727703 0.2727703]\n",
      "[0.2727703 0.2727703 0.2727703 ... 0.2727703 0.2727703 0.2727703]\n",
      "[0.2727703 0.2727703 0.2727703 ... 0.2727703 0.2727703 0.2727703]\n",
      "[0.2727703 0.2727703 0.2727703 ... 0.2727703 0.2727703 0.2727703]\n",
      "[0.2727703 0.2727703 0.2727703 ... 0.2727703 0.2727703 0.2727703]\n",
      "[0.2727703 0.2727703 0.2727703 ... 0.2727703 0.2727703 0.2727703]\n",
      "[0.2727703 0.2727703 0.2727703 ... 0.2727703 0.2727703 0.2727703]\n",
      "[0.2727703 0.2727703 0.2727703 ... 0.2727703 0.2727703 0.2727703]\n",
      "[0.2727703 0.2727703 0.2727703 ... 0.2727703 0.2727703 0.2727703]\n",
      "[0.2727703 0.2727703 0.2727703 ... 0.2727703 0.2727703 0.2727703]\n",
      "[0.2727703 0.2727703 0.2727703 ... 0.2727703 0.2727703 0.2727703]\n",
      "[0.2727703 0.2727703 0.2727703 ... 0.2727703 0.2727703 0.2727703]\n",
      "[0.2727703 0.2727703 0.2727703 ... 0.2727703 0.2727703 0.2727703]\n",
      "[0.2727703 0.2727703 0.2727703 ... 0.2727703 0.2727703 0.2727703]\n",
      "[0.2727703 0.2727703 0.2727703 ... 0.2727703 0.2727703 0.2727703]\n",
      "[0.2727703 0.2727703 0.2727703 ... 0.2727703 0.2727703 0.2727703]\n",
      "[0.2727703 0.2727703 0.2727703 ... 0.2727703 0.2727703 0.2727703]\n",
      "[0.2727703 0.2727703 0.2727703 ... 0.2727703 0.2727703 0.2727703]\n",
      "[0.2727703 0.2727703 0.2727703 ... 0.2727703 0.2727703 0.2727703]\n",
      "[0.2727703 0.2727703 0.2727703 ... 0.2727703 0.2727703 0.2727703]\n",
      "[0.2727703 0.2727703 0.2727703 ... 0.2727703 0.2727703 0.2727703]\n",
      "[0.2727703 0.2727703 0.2727703 ... 0.2727703 0.2727703 0.2727703]\n",
      "[0.2727703 0.2727703 0.2727703 ... 0.2727703 0.2727703 0.2727703]\n",
      "[0.2727703 0.2727703 0.2727703 ... 0.2727703 0.2727703 0.2727703]\n",
      "[0.2727703 0.2727703 0.2727703 ... 0.2727703 0.2727703 0.2727703]\n",
      "[0.2727703 0.2727703 0.2727703 ... 0.2727703 0.2727703 0.2727703]\n",
      "[0.2727703 0.2727703 0.2727703 ... 0.2727703 0.2727703 0.2727703]\n",
      "[0.2727703 0.2727703 0.2727703 ... 0.2727703 0.2727703 0.2727703]\n",
      "[0.2727703 0.2727703 0.2727703 ... 0.2727703 0.2727703 0.2727703]\n",
      "[0.2727703 0.2727703 0.2727703 ... 0.2727703 0.2727703 0.2727703]\n",
      "[0.2727703 0.2727703 0.2727703 ... 0.2727703 0.2727703 0.2727703]\n",
      "[0.2727703 0.2727703 0.2727703 ... 0.2727703 0.2727703 0.2727703]\n",
      "[0.2727703 0.2727703 0.2727703 ... 0.2727703 0.2727703 0.2727703]\n",
      "[0.2727703 0.2727703 0.2727703 ... 0.2727703 0.2727703 0.2727703]\n",
      "[0.2727703 0.2727703 0.2727703 ... 0.2727703 0.2727703 0.2727703]\n",
      "[0.2727703 0.2727703 0.2727703 ... 0.2727703 0.2727703 0.2727703]\n",
      "[0.2727703 0.2727703 0.2727703 ... 0.2727703 0.2727703 0.2727703]\n",
      "[0.2727703 0.2727703 0.2727703 ... 0.2727703 0.2727703 0.2727703]\n",
      "[0.2727703 0.2727703 0.2727703 ... 0.2727703 0.2727703 0.2727703]\n",
      "[0.2727703 0.2727703 0.2727703 ... 0.2727703 0.2727703 0.2727703]\n",
      "[0.2727703 0.2727703 0.2727703 ... 0.2727703 0.2727703 0.2727703]\n",
      "[0.2727703 0.2727703 0.2727703 ... 0.2727703 0.2727703 0.2727703]\n",
      "[0.2727703 0.2727703 0.2727703 ... 0.2727703 0.2727703 0.2727703]\n",
      "[0.2727703 0.2727703 0.2727703 ... 0.2727703 0.2727703 0.2727703]\n",
      "[0.2727703 0.2727703 0.2727703 ... 0.2727703 0.2727703 0.2727703]\n",
      "[0.2727703 0.2727703 0.2727703 ... 0.2727703 0.2727703 0.2727703]\n",
      "[0.2727703 0.2727703 0.2727703 ... 0.2727703 0.2727703 0.2727703]\n",
      "[0.2727703 0.2727703 0.2727703 ... 0.2727703 0.2727703 0.2727703]\n",
      "[0.2727703 0.2727703 0.2727703 ... 0.2727703 0.2727703 0.2727703]\n",
      "[0.2727703 0.2727703 0.2727703 ... 0.2727703 0.2727703 0.2727703]\n",
      "[0.2727703 0.2727703 0.2727703 ... 0.2727703 0.2727703 0.2727703]\n",
      "[0.2727703 0.2727703 0.2727703 ... 0.2727703 0.2727703 0.2727703]\n",
      "[0.2727703 0.2727703 0.2727703 ... 0.2727703 0.2727703 0.2727703]\n",
      "[0.2727703 0.2727703 0.2727703 ... 0.2727703 0.2727703 0.2727703]\n",
      "[0.2727703 0.2727703 0.2727703 ... 0.2727703 0.2727703 0.2727703]\n",
      "[0.2727703 0.2727703 0.2727703 ... 0.2727703 0.2727703 0.2727703]\n",
      "[0.2727703 0.2727703 0.2727703 ... 0.2727703 0.2727703 0.2727703]\n",
      "[0.2727703 0.2727703 0.2727703 ... 0.2727703 0.2727703 0.2727703]\n",
      "[0.2727703 0.2727703 0.2727703 ... 0.2727703 0.2727703 0.2727703]\n",
      "[0.2727703 0.2727703 0.2727703 ... 0.2727703 0.2727703 0.2727703]\n",
      "[0.2727703 0.2727703 0.2727703 ... 0.2727703 0.2727703 0.2727703]\n",
      "[0.2727703 0.2727703 0.2727703 ... 0.2727703 0.2727703 0.2727703]\n",
      "[0.2727703 0.2727703 0.2727703 ... 0.2727703 0.2727703 0.2727703]\n",
      "[0.2727703 0.2727703 0.2727703 ... 0.2727703 0.2727703 0.2727703]\n",
      "[0.2727703 0.2727703 0.2727703 ... 0.2727703 0.2727703 0.2727703]\n",
      "[0.2727703 0.2727703 0.2727703 ... 0.2727703 0.2727703 0.2727703]\n",
      "[0.2727703 0.2727703 0.2727703 ... 0.2727703 0.2727703 0.2727703]\n",
      "[0.2727703 0.2727703 0.2727703 ... 0.2727703 0.2727703 0.2727703]\n",
      "[0.2727703 0.2727703 0.2727703 ... 0.2727703 0.2727703 0.2727703]\n",
      "[0.2727703 0.2727703 0.2727703 ... 0.2727703 0.2727703 0.2727703]\n",
      "[0.2727703 0.2727703 0.2727703 ... 0.2727703 0.2727703 0.2727703]\n",
      "[0.2727703 0.2727703 0.2727703 ... 0.2727703 0.2727703 0.2727703]\n",
      "[0.2727703 0.2727703 0.2727703 ... 0.2727703 0.2727703 0.2727703]\n",
      "[0.2727703 0.2727703 0.2727703 ... 0.2727703 0.2727703 0.2727703]\n",
      "[0.2727703 0.2727703 0.2727703 ... 0.2727703 0.2727703 0.2727703]\n",
      "[0.2727703 0.2727703 0.2727703 ... 0.2727703 0.2727703 0.2727703]\n",
      "[0.2727703 0.2727703 0.2727703 ... 0.2727703 0.2727703 0.2727703]\n",
      "[0.2727703 0.2727703 0.2727703 ... 0.2727703 0.2727703 0.2727703]\n",
      "[0.2727703 0.2727703 0.2727703 ... 0.2727703 0.2727703 0.2727703]\n",
      "[0.2727703 0.2727703 0.2727703 ... 0.2727703 0.2727703 0.2727703]\n",
      "[0.2727703 0.2727703 0.2727703 ... 0.2727703 0.2727703 0.2727703]\n",
      "[0.2727703 0.2727703 0.2727703 ... 0.2727703 0.2727703 0.2727703]\n",
      "[0.2727703 0.2727703 0.2727703 ... 0.2727703 0.2727703 0.2727703]\n",
      "[0.2727703 0.2727703 0.2727703 ... 0.2727703 0.2727703 0.2727703]\n",
      "[0.2727703 0.2727703 0.2727703 ... 0.2727703 0.2727703 0.2727703]\n",
      "[0.2727703 0.2727703 0.2727703 ... 0.2727703 0.2727703 0.2727703]\n",
      "[0.2727703 0.2727703 0.2727703 ... 0.2727703 0.2727703 0.2727703]\n",
      "[0.2727703 0.2727703 0.2727703 ... 0.2727703 0.2727703 0.2727703]\n",
      "[0.2727703 0.2727703 0.2727703 ... 0.2727703 0.2727703 0.2727703]\n",
      "[0.2727703 0.2727703 0.2727703 ... 0.2727703 0.2727703 0.2727703]\n",
      "[0.2727703 0.2727703 0.2727703 ... 0.2727703 0.2727703 0.2727703]\n",
      "[0.2727703 0.2727703 0.2727703 ... 0.2727703 0.2727703 0.2727703]\n",
      "[0.2727703 0.2727703 0.2727703 ... 0.2727703 0.2727703 0.2727703]\n",
      "[0.2727703 0.2727703 0.2727703 ... 0.2727703 0.2727703 0.2727703]\n",
      "[0.2727703 0.2727703 0.2727703 ... 0.2727703 0.2727703 0.2727703]\n",
      "[0.2727703 0.2727703 0.2727703 ... 0.2727703 0.2727703 0.2727703]\n",
      "[0.2727703 0.2727703 0.2727703 ... 0.2727703 0.2727703 0.2727703]\n",
      "[0.2727703 0.2727703 0.2727703 ... 0.2727703 0.2727703 0.2727703]\n",
      "[0.2727703 0.2727703 0.2727703 ... 0.2727703 0.2727703 0.2727703]\n",
      "[0.2727703 0.2727703 0.2727703 ... 0.2727703 0.2727703 0.2727703]\n",
      "[0.2727703 0.2727703 0.2727703 ... 0.2727703 0.2727703 0.2727703]\n",
      "[0.2727703 0.2727703 0.2727703 ... 0.2727703 0.2727703 0.2727703]\n",
      "[0.2727703 0.2727703 0.2727703 ... 0.2727703 0.2727703 0.2727703]\n",
      "[0.2727703 0.2727703 0.2727703 ... 0.2727703 0.2727703 0.2727703]\n",
      "[0.2727703 0.2727703 0.2727703 ... 0.2727703 0.2727703 0.2727703]\n",
      "[0.2727703 0.2727703 0.2727703 ... 0.2727703 0.2727703 0.2727703]\n",
      "[0.2727703 0.2727703 0.2727703 ... 0.2727703 0.2727703 0.2727703]\n",
      "[0.2727703 0.2727703 0.2727703 ... 0.2727703 0.2727703 0.2727703]\n",
      "[0.2727703 0.2727703 0.2727703 ... 0.2727703 0.2727703 0.2727703]\n",
      "[0.2727703 0.2727703 0.2727703 ... 0.2727703 0.2727703 0.2727703]\n",
      "[0.2727703 0.2727703 0.2727703 ... 0.2727703 0.2727703 0.2727703]\n",
      "[0.2727703 0.2727703 0.2727703 ... 0.2727703 0.2727703 0.2727703]\n",
      "[0.2727703 0.2727703 0.2727703 ... 0.2727703 0.2727703 0.2727703]\n",
      "[0.2727703 0.2727703 0.2727703 ... 0.2727703 0.2727703 0.2727703]\n",
      "[0.2727703 0.2727703 0.2727703 ... 0.2727703 0.2727703 0.2727703]\n",
      "[0.2727703 0.2727703 0.2727703 ... 0.2727703 0.2727703 0.2727703]\n",
      "[0.2727703 0.2727703 0.2727703 ... 0.2727703 0.2727703 0.2727703]\n",
      "[0.2727703 0.2727703 0.2727703 ... 0.2727703 0.2727703 0.2727703]\n",
      "[0.2727703 0.2727703 0.2727703 ... 0.2727703 0.2727703 0.2727703]\n",
      "[0.2727703 0.2727703 0.2727703 ... 0.2727703 0.2727703 0.2727703]\n",
      "[0.2727703 0.2727703 0.2727703 ... 0.2727703 0.2727703 0.2727703]\n",
      "[0.2727703 0.2727703 0.2727703 ... 0.2727703 0.2727703 0.2727703]\n",
      "[0.2727703 0.2727703 0.2727703 ... 0.2727703 0.2727703 0.2727703]\n",
      "[0.2727703 0.2727703 0.2727703 ... 0.2727703 0.2727703 0.2727703]\n"
     ]
    },
    {
     "ename": "KeyboardInterrupt",
     "evalue": "",
     "output_type": "error",
     "traceback": [
      "\u001b[0;31m---------------------------------------------------------------------------\u001b[0m",
      "\u001b[0;31mKeyboardInterrupt\u001b[0m                         Traceback (most recent call last)",
      "\u001b[0;32m<ipython-input-81-b29b12f690df>\u001b[0m in \u001b[0;36m<module>\u001b[0;34m\u001b[0m\n\u001b[1;32m     39\u001b[0m     \u001b[0;32mif\u001b[0m \u001b[0;32mTrue\u001b[0m\u001b[0;34m:\u001b[0m\u001b[0;34m\u001b[0m\u001b[0;34m\u001b[0m\u001b[0m\n\u001b[1;32m     40\u001b[0m         _, loss_value = sess.run((train, loss), feed_dict={\n\u001b[0;32m---> 41\u001b[0;31m           \u001b[0mx_tf\u001b[0m\u001b[0;34m:\u001b[0m \u001b[0mx_train\u001b[0m\u001b[0;34m,\u001b[0m \u001b[0my_tf\u001b[0m\u001b[0;34m:\u001b[0m \u001b[0my_train\u001b[0m\u001b[0;34m,\u001b[0m \u001b[0mx_fp_tf\u001b[0m\u001b[0;34m:\u001b[0m \u001b[0mx_train_fp\u001b[0m\u001b[0;34m,\u001b[0m \u001b[0my_fp_tf\u001b[0m\u001b[0;34m:\u001b[0m \u001b[0my_train_fp\u001b[0m\u001b[0;34m\u001b[0m\u001b[0;34m\u001b[0m\u001b[0m\n\u001b[0m\u001b[1;32m     42\u001b[0m         })\n\u001b[1;32m     43\u001b[0m         \u001b[0mprint\u001b[0m\u001b[0;34m(\u001b[0m\u001b[0mloss_value\u001b[0m\u001b[0;34m)\u001b[0m\u001b[0;34m\u001b[0m\u001b[0;34m\u001b[0m\u001b[0m\n",
      "\u001b[0;32m~/anaconda3/envs/epfl-ml/lib/python3.6/site-packages/tensorflow/python/client/session.py\u001b[0m in \u001b[0;36mrun\u001b[0;34m(self, fetches, feed_dict, options, run_metadata)\u001b[0m\n\u001b[1;32m    885\u001b[0m     \u001b[0;32mtry\u001b[0m\u001b[0;34m:\u001b[0m\u001b[0;34m\u001b[0m\u001b[0;34m\u001b[0m\u001b[0m\n\u001b[1;32m    886\u001b[0m       result = self._run(None, fetches, feed_dict, options_ptr,\n\u001b[0;32m--> 887\u001b[0;31m                          run_metadata_ptr)\n\u001b[0m\u001b[1;32m    888\u001b[0m       \u001b[0;32mif\u001b[0m \u001b[0mrun_metadata\u001b[0m\u001b[0;34m:\u001b[0m\u001b[0;34m\u001b[0m\u001b[0;34m\u001b[0m\u001b[0m\n\u001b[1;32m    889\u001b[0m         \u001b[0mproto_data\u001b[0m \u001b[0;34m=\u001b[0m \u001b[0mtf_session\u001b[0m\u001b[0;34m.\u001b[0m\u001b[0mTF_GetBuffer\u001b[0m\u001b[0;34m(\u001b[0m\u001b[0mrun_metadata_ptr\u001b[0m\u001b[0;34m)\u001b[0m\u001b[0;34m\u001b[0m\u001b[0;34m\u001b[0m\u001b[0m\n",
      "\u001b[0;32m~/anaconda3/envs/epfl-ml/lib/python3.6/site-packages/tensorflow/python/client/session.py\u001b[0m in \u001b[0;36m_run\u001b[0;34m(self, handle, fetches, feed_dict, options, run_metadata)\u001b[0m\n\u001b[1;32m   1108\u001b[0m     \u001b[0;32mif\u001b[0m \u001b[0mfinal_fetches\u001b[0m \u001b[0;32mor\u001b[0m \u001b[0mfinal_targets\u001b[0m \u001b[0;32mor\u001b[0m \u001b[0;34m(\u001b[0m\u001b[0mhandle\u001b[0m \u001b[0;32mand\u001b[0m \u001b[0mfeed_dict_tensor\u001b[0m\u001b[0;34m)\u001b[0m\u001b[0;34m:\u001b[0m\u001b[0;34m\u001b[0m\u001b[0;34m\u001b[0m\u001b[0m\n\u001b[1;32m   1109\u001b[0m       results = self._do_run(handle, final_targets, final_fetches,\n\u001b[0;32m-> 1110\u001b[0;31m                              feed_dict_tensor, options, run_metadata)\n\u001b[0m\u001b[1;32m   1111\u001b[0m     \u001b[0;32melse\u001b[0m\u001b[0;34m:\u001b[0m\u001b[0;34m\u001b[0m\u001b[0;34m\u001b[0m\u001b[0m\n\u001b[1;32m   1112\u001b[0m       \u001b[0mresults\u001b[0m \u001b[0;34m=\u001b[0m \u001b[0;34m[\u001b[0m\u001b[0;34m]\u001b[0m\u001b[0;34m\u001b[0m\u001b[0;34m\u001b[0m\u001b[0m\n",
      "\u001b[0;32m~/anaconda3/envs/epfl-ml/lib/python3.6/site-packages/tensorflow/python/client/session.py\u001b[0m in \u001b[0;36m_do_run\u001b[0;34m(self, handle, target_list, fetch_list, feed_dict, options, run_metadata)\u001b[0m\n\u001b[1;32m   1284\u001b[0m     \u001b[0;32mif\u001b[0m \u001b[0mhandle\u001b[0m \u001b[0;32mis\u001b[0m \u001b[0;32mNone\u001b[0m\u001b[0;34m:\u001b[0m\u001b[0;34m\u001b[0m\u001b[0;34m\u001b[0m\u001b[0m\n\u001b[1;32m   1285\u001b[0m       return self._do_call(_run_fn, feeds, fetches, targets, options,\n\u001b[0;32m-> 1286\u001b[0;31m                            run_metadata)\n\u001b[0m\u001b[1;32m   1287\u001b[0m     \u001b[0;32melse\u001b[0m\u001b[0;34m:\u001b[0m\u001b[0;34m\u001b[0m\u001b[0;34m\u001b[0m\u001b[0m\n\u001b[1;32m   1288\u001b[0m       \u001b[0;32mreturn\u001b[0m \u001b[0mself\u001b[0m\u001b[0;34m.\u001b[0m\u001b[0m_do_call\u001b[0m\u001b[0;34m(\u001b[0m\u001b[0m_prun_fn\u001b[0m\u001b[0;34m,\u001b[0m \u001b[0mhandle\u001b[0m\u001b[0;34m,\u001b[0m \u001b[0mfeeds\u001b[0m\u001b[0;34m,\u001b[0m \u001b[0mfetches\u001b[0m\u001b[0;34m)\u001b[0m\u001b[0;34m\u001b[0m\u001b[0;34m\u001b[0m\u001b[0m\n",
      "\u001b[0;32m~/anaconda3/envs/epfl-ml/lib/python3.6/site-packages/tensorflow/python/client/session.py\u001b[0m in \u001b[0;36m_do_call\u001b[0;34m(self, fn, *args)\u001b[0m\n\u001b[1;32m   1290\u001b[0m   \u001b[0;32mdef\u001b[0m \u001b[0m_do_call\u001b[0m\u001b[0;34m(\u001b[0m\u001b[0mself\u001b[0m\u001b[0;34m,\u001b[0m \u001b[0mfn\u001b[0m\u001b[0;34m,\u001b[0m \u001b[0;34m*\u001b[0m\u001b[0margs\u001b[0m\u001b[0;34m)\u001b[0m\u001b[0;34m:\u001b[0m\u001b[0;34m\u001b[0m\u001b[0;34m\u001b[0m\u001b[0m\n\u001b[1;32m   1291\u001b[0m     \u001b[0;32mtry\u001b[0m\u001b[0;34m:\u001b[0m\u001b[0;34m\u001b[0m\u001b[0;34m\u001b[0m\u001b[0m\n\u001b[0;32m-> 1292\u001b[0;31m       \u001b[0;32mreturn\u001b[0m \u001b[0mfn\u001b[0m\u001b[0;34m(\u001b[0m\u001b[0;34m*\u001b[0m\u001b[0margs\u001b[0m\u001b[0;34m)\u001b[0m\u001b[0;34m\u001b[0m\u001b[0;34m\u001b[0m\u001b[0m\n\u001b[0m\u001b[1;32m   1293\u001b[0m     \u001b[0;32mexcept\u001b[0m \u001b[0merrors\u001b[0m\u001b[0;34m.\u001b[0m\u001b[0mOpError\u001b[0m \u001b[0;32mas\u001b[0m \u001b[0me\u001b[0m\u001b[0;34m:\u001b[0m\u001b[0;34m\u001b[0m\u001b[0;34m\u001b[0m\u001b[0m\n\u001b[1;32m   1294\u001b[0m       \u001b[0mmessage\u001b[0m \u001b[0;34m=\u001b[0m \u001b[0mcompat\u001b[0m\u001b[0;34m.\u001b[0m\u001b[0mas_text\u001b[0m\u001b[0;34m(\u001b[0m\u001b[0me\u001b[0m\u001b[0;34m.\u001b[0m\u001b[0mmessage\u001b[0m\u001b[0;34m)\u001b[0m\u001b[0;34m\u001b[0m\u001b[0;34m\u001b[0m\u001b[0m\n",
      "\u001b[0;32m~/anaconda3/envs/epfl-ml/lib/python3.6/site-packages/tensorflow/python/client/session.py\u001b[0m in \u001b[0;36m_run_fn\u001b[0;34m(feed_dict, fetch_list, target_list, options, run_metadata)\u001b[0m\n\u001b[1;32m   1275\u001b[0m       \u001b[0mself\u001b[0m\u001b[0;34m.\u001b[0m\u001b[0m_extend_graph\u001b[0m\u001b[0;34m(\u001b[0m\u001b[0;34m)\u001b[0m\u001b[0;34m\u001b[0m\u001b[0;34m\u001b[0m\u001b[0m\n\u001b[1;32m   1276\u001b[0m       return self._call_tf_sessionrun(\n\u001b[0;32m-> 1277\u001b[0;31m           options, feed_dict, fetch_list, target_list, run_metadata)\n\u001b[0m\u001b[1;32m   1278\u001b[0m \u001b[0;34m\u001b[0m\u001b[0m\n\u001b[1;32m   1279\u001b[0m     \u001b[0;32mdef\u001b[0m \u001b[0m_prun_fn\u001b[0m\u001b[0;34m(\u001b[0m\u001b[0mhandle\u001b[0m\u001b[0;34m,\u001b[0m \u001b[0mfeed_dict\u001b[0m\u001b[0;34m,\u001b[0m \u001b[0mfetch_list\u001b[0m\u001b[0;34m)\u001b[0m\u001b[0;34m:\u001b[0m\u001b[0;34m\u001b[0m\u001b[0;34m\u001b[0m\u001b[0m\n",
      "\u001b[0;32m~/anaconda3/envs/epfl-ml/lib/python3.6/site-packages/tensorflow/python/client/session.py\u001b[0m in \u001b[0;36m_call_tf_sessionrun\u001b[0;34m(self, options, feed_dict, fetch_list, target_list, run_metadata)\u001b[0m\n\u001b[1;32m   1365\u001b[0m     return tf_session.TF_SessionRun_wrapper(\n\u001b[1;32m   1366\u001b[0m         \u001b[0mself\u001b[0m\u001b[0;34m.\u001b[0m\u001b[0m_session\u001b[0m\u001b[0;34m,\u001b[0m \u001b[0moptions\u001b[0m\u001b[0;34m,\u001b[0m \u001b[0mfeed_dict\u001b[0m\u001b[0;34m,\u001b[0m \u001b[0mfetch_list\u001b[0m\u001b[0;34m,\u001b[0m \u001b[0mtarget_list\u001b[0m\u001b[0;34m,\u001b[0m\u001b[0;34m\u001b[0m\u001b[0;34m\u001b[0m\u001b[0m\n\u001b[0;32m-> 1367\u001b[0;31m         run_metadata)\n\u001b[0m\u001b[1;32m   1368\u001b[0m \u001b[0;34m\u001b[0m\u001b[0m\n\u001b[1;32m   1369\u001b[0m   \u001b[0;32mdef\u001b[0m \u001b[0m_call_tf_sessionprun\u001b[0m\u001b[0;34m(\u001b[0m\u001b[0mself\u001b[0m\u001b[0;34m,\u001b[0m \u001b[0mhandle\u001b[0m\u001b[0;34m,\u001b[0m \u001b[0mfeed_dict\u001b[0m\u001b[0;34m,\u001b[0m \u001b[0mfetch_list\u001b[0m\u001b[0;34m)\u001b[0m\u001b[0;34m:\u001b[0m\u001b[0;34m\u001b[0m\u001b[0;34m\u001b[0m\u001b[0m\n",
      "\u001b[0;31mKeyboardInterrupt\u001b[0m: "
     ]
    }
   ],
   "source": [
    "x_tf = tf.placeholder(tf.float32, shape=(None, NUM_FEATURES), name=\"x\")\n",
    "y_tf = tf.placeholder(tf.float32, shape=(None, NUM_CLASSES), name=\"y\")\n",
    "\n",
    "x_fp_tf = tf.placeholder(tf.float32, shape=(NUM_FP, None, NUM_FEATURES), name=\"x_fp\")\n",
    "y_fp_tf = tf.placeholder(tf.float32, shape=(NUM_FP, None, NUM_CLASSES), name=\"y_fp\")\n",
    "\n",
    "hidden1 = tf.layers.Dense(units=200, activation=tf.nn.relu, name=\"hidden1\")\n",
    "hidden2 = tf.layers.Dense(units=200, activation=tf.nn.relu, name=\"hidden2\")\n",
    "out = tf.layers.Dense(units=NUM_CLASSES, activation=tf.nn.relu)\n",
    "\n",
    "y_logits = hidden1(x_tf)\n",
    "y_logits = hidden2(y_logits)\n",
    "y_logits = out(y_logits)\n",
    "y_logits_normed = y_logits / (tf.stack([tf.norm(y_logits, axis=1)] * NUM_CLASSES, axis=1) + 0.0001)\n",
    "y_preds = tf.nn.softmax(y_logits)\n",
    "\n",
    "y_fp_preds = []\n",
    "for i in range(NUM_FP):\n",
    "    cur_x_fp = x_fp_tf[i]\n",
    "    cur_y_fp = hidden1(cur_x_fp)\n",
    "    cur_y_fp = hidden2(cur_y_fp)\n",
    "    cur_y_fp = out(cur_y_fp)\n",
    "    cur_y_fp = cur_y_fp / (tf.stack([tf.norm(cur_y_fp, axis=1)] * NUM_CLASSES, axis=1) + 0.0001)\n",
    "    y_fp_preds.append(cur_y_fp)\n",
    "y_fp_preds = tf.stack(y_fp_preds)\n",
    "\n",
    "loss_vanilla = tf.nn.softmax_cross_entropy_with_logits_v2(labels=y_tf, logits=y_logits)\n",
    "loss_fp = tf.losses.mean_squared_error(y_fp_preds - tf.stack([y_logits_normed] * 4), y_fp_tf)\n",
    "loss = loss_vanilla + 1.0 * loss_fp\n",
    "\n",
    "optimizer = tf.train.AdamOptimizer(0.01)\n",
    "train = optimizer.minimize(loss)\n",
    "\n",
    "init = tf.global_variables_initializer()\n",
    "\n",
    "sess = tf.Session()\n",
    "sess.run(init)\n",
    "for i in range(1000):\n",
    "    if True:\n",
    "        _, loss_value = sess.run((train, loss), feed_dict={\n",
    "          x_tf: x_train, y_tf: y_train, x_fp_tf: x_train_fp, y_fp_tf: y_train_fp\n",
    "        })\n",
    "        print(loss_value)\n",
    "    if False:\n",
    "        lol = sess.run(y_fp_preds - tf.stack([y_logits_normed] * 4), feed_dict={\n",
    "              x_tf: x_train, y_tf: y_train, x_fp_tf: x_train_fp, y_fp_tf: y_train_fp\n",
    "            })\n",
    "        print(lol)"
   ]
  },
  {
   "cell_type": "code",
   "execution_count": 20,
   "metadata": {},
   "outputs": [],
   "source": [
    "final_preds = sess.run(y_pred, feed_dict={x_tf: x_test})\n",
    "final_preds = final_preds.squeeze(axis=1)\n",
    "final_preds = final_preds <= 0.5\n"
   ]
  },
  {
   "cell_type": "code",
   "execution_count": 21,
   "metadata": {},
   "outputs": [
    {
     "ename": "NameError",
     "evalue": "name 'sns' is not defined",
     "output_type": "error",
     "traceback": [
      "\u001b[0;31m---------------------------------------------------------------------------\u001b[0m",
      "\u001b[0;31mNameError\u001b[0m                                 Traceback (most recent call last)",
      "\u001b[0;32m<ipython-input-21-578c2fb41d88>\u001b[0m in \u001b[0;36m<module>\u001b[0;34m\u001b[0m\n\u001b[0;32m----> 1\u001b[0;31m \u001b[0msns\u001b[0m\u001b[0;34m.\u001b[0m\u001b[0mscatterplot\u001b[0m\u001b[0;34m(\u001b[0m\u001b[0mx\u001b[0m\u001b[0;34m=\u001b[0m\u001b[0mx_test\u001b[0m\u001b[0;34m[\u001b[0m\u001b[0;34m:\u001b[0m\u001b[0;34m,\u001b[0m\u001b[0;36m0\u001b[0m\u001b[0;34m]\u001b[0m\u001b[0;34m,\u001b[0m \u001b[0my\u001b[0m\u001b[0;34m=\u001b[0m\u001b[0mx_test\u001b[0m\u001b[0;34m[\u001b[0m\u001b[0;34m:\u001b[0m\u001b[0;34m,\u001b[0m\u001b[0;36m1\u001b[0m\u001b[0;34m]\u001b[0m\u001b[0;34m,\u001b[0m \u001b[0mhue\u001b[0m\u001b[0;34m=\u001b[0m\u001b[0mfinal_preds\u001b[0m\u001b[0;34m)\u001b[0m\u001b[0;34m\u001b[0m\u001b[0;34m\u001b[0m\u001b[0m\n\u001b[0m\u001b[1;32m      2\u001b[0m \u001b[0mplt\u001b[0m\u001b[0;34m.\u001b[0m\u001b[0mshow\u001b[0m\u001b[0;34m(\u001b[0m\u001b[0;34m)\u001b[0m\u001b[0;34m\u001b[0m\u001b[0;34m\u001b[0m\u001b[0m\n",
      "\u001b[0;31mNameError\u001b[0m: name 'sns' is not defined"
     ]
    }
   ],
   "source": [
    "sns.scatterplot(x=x_test[:,0], y=x_test[:,1], hue=final_preds)\n",
    "plt.show()"
   ]
  },
  {
   "cell_type": "code",
   "execution_count": 3,
   "metadata": {},
   "outputs": [],
   "source": [
    "def frange(x, y, jump):\n",
    "    while x < y:\n",
    "        yield x\n",
    "        x += jump"
   ]
  },
  {
   "cell_type": "code",
   "execution_count": 4,
   "metadata": {},
   "outputs": [],
   "source": [
    "def generate_grid(minX, minY, maxX, maxY, delta):\n",
    "    pts = []\n",
    "    for x in frange(minX, maxX, delta):\n",
    "        for y in frange(minY, maxY, delta):\n",
    "            pts.append([x, y])\n",
    "    return np.array(pts)"
   ]
  },
  {
   "cell_type": "code",
   "execution_count": null,
   "metadata": {},
   "outputs": [],
   "source": []
  },
  {
   "cell_type": "code",
   "execution_count": null,
   "metadata": {},
   "outputs": [],
   "source": []
  },
  {
   "cell_type": "code",
   "execution_count": 8,
   "metadata": {},
   "outputs": [],
   "source": [
    "grid = generate_grid(-5, -5, 5, 5, 0.1)"
   ]
  },
  {
   "cell_type": "code",
   "execution_count": 9,
   "metadata": {},
   "outputs": [
    {
     "data": {
      "text/plain": [
       "(10201, 2)"
      ]
     },
     "execution_count": 9,
     "metadata": {},
     "output_type": "execute_result"
    }
   ],
   "source": [
    "grid.shape"
   ]
  },
  {
   "cell_type": "code",
   "execution_count": null,
   "metadata": {},
   "outputs": [],
   "source": []
  }
 ],
 "metadata": {
  "kernelspec": {
   "display_name": "Python 3",
   "language": "python",
   "name": "python3"
  },
  "language_info": {
   "codemirror_mode": {
    "name": "ipython",
    "version": 3
   },
   "file_extension": ".py",
   "mimetype": "text/x-python",
   "name": "python",
   "nbconvert_exporter": "python",
   "pygments_lexer": "ipython3",
   "version": "3.6.7"
  }
 },
 "nbformat": 4,
 "nbformat_minor": 2
}
