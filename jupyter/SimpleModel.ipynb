{
 "cells": [
  {
   "cell_type": "code",
   "execution_count": 32,
   "metadata": {},
   "outputs": [],
   "source": [
    "import tensorflow as tf\n",
    "from numpy.random import multivariate_normal\n",
    "import matplotlib.pyplot as plt\n",
    "import numpy as np\n",
    "\n",
    "import seaborn as sns"
   ]
  },
  {
   "cell_type": "code",
   "execution_count": 2,
   "metadata": {},
   "outputs": [
    {
     "name": "stderr",
     "output_type": "stream",
     "text": [
      "/anaconda3/lib/python3.6/site-packages/ipykernel_launcher.py:4: RuntimeWarning: covariance is not symmetric positive-semidefinite.\n",
      "  after removing the cwd from sys.path.\n",
      "/anaconda3/lib/python3.6/site-packages/ipykernel_launcher.py:5: RuntimeWarning: covariance is not symmetric positive-semidefinite.\n",
      "  \"\"\"\n"
     ]
    },
    {
     "data": {
      "image/png": "[encoded data removed]",
      "text/plain": [
       "<matplotlib.figure.Figure at 0x182608f438>"
      ]
     },
     "metadata": {},
     "output_type": "display_data"
    }
   ],
   "source": [
    "# GENERATE THE DATA\n",
    "\n",
    "size = 1000\n",
    "ball_0 = multivariate_normal(mean=[-3,-3], cov=[[0, 0.5], [0.5, 0] ], size=size)\n",
    "ball_1 = multivariate_normal(mean=[3,3], cov=[[0, 0.5], [0.5, 0] ], size=size)\n",
    "\n",
    "plt.scatter(ball_0[:,0], ball_0[:,1])\n",
    "plt.scatter(ball_1[:,0], ball_1[:,1])\n",
    "plt.show()\n",
    "\n",
    "\n",
    "# "
   ]
  },
  {
   "cell_type": "code",
   "execution_count": 3,
   "metadata": {},
   "outputs": [],
   "source": [
    "y_0 = [0] * size \n",
    "y_1 = [1] * size\n",
    "y = np.concatenate([y_0,y_1])[:,np.newaxis]\n",
    "X = np.concatenate([ball_0, ball_1])\n",
    "\n",
    "data = np.hstack([X,y])\n",
    "data.shape\n",
    "\n",
    "# permutate random\n",
    "np.random.shuffle(data)\n",
    "X = data[:,0:2]\n",
    "y = data[:,2]"
   ]
  },
  {
   "cell_type": "code",
   "execution_count": 4,
   "metadata": {},
   "outputs": [
    {
     "data": {
      "text/plain": [
       "(2000, 2)"
      ]
     },
     "execution_count": 4,
     "metadata": {},
     "output_type": "execute_result"
    }
   ],
   "source": [
    "X.shape"
   ]
  },
  {
   "cell_type": "code",
   "execution_count": 5,
   "metadata": {},
   "outputs": [
    {
     "data": {
      "text/plain": [
       "(2000,)"
      ]
     },
     "execution_count": 5,
     "metadata": {},
     "output_type": "execute_result"
    }
   ],
   "source": [
    "y.shape"
   ]
  },
  {
   "cell_type": "code",
   "execution_count": 15,
   "metadata": {},
   "outputs": [],
   "source": [
    "x_train = X[0:1500,:]\n",
    "x_test = X[1500:,:]\n",
    "\n",
    "y_train = y[0:1500]\n",
    "y_train = y_train[:, np.newaxis]\n",
    "\n",
    "y_test = y[1500:]\n",
    "y_test = y_test[:, np.newaxis]"
   ]
  },
  {
   "cell_type": "code",
   "execution_count": 16,
   "metadata": {},
   "outputs": [
    {
     "data": {
      "text/plain": [
       "(1500, 2)"
      ]
     },
     "execution_count": 16,
     "metadata": {},
     "output_type": "execute_result"
    }
   ],
   "source": [
    "x_train.shape"
   ]
  },
  {
   "cell_type": "code",
   "execution_count": 20,
   "metadata": {},
   "outputs": [
    {
     "data": {
      "text/plain": [
       "(500, 2)"
      ]
     },
     "execution_count": 20,
     "metadata": {},
     "output_type": "execute_result"
    }
   ],
   "source": [
    "x_test.shape"
   ]
  },
  {
   "cell_type": "code",
   "execution_count": 18,
   "metadata": {},
   "outputs": [
    {
     "data": {
      "text/plain": [
       "(500, 1)"
      ]
     },
     "execution_count": 18,
     "metadata": {},
     "output_type": "execute_result"
    }
   ],
   "source": [
    "y_test.shape"
   ]
  },
  {
   "cell_type": "code",
   "execution_count": 29,
   "metadata": {},
   "outputs": [],
   "source": [
    "x_tf = tf.placeholder(tf.float32, shape=(None, 2), name=\"x\")\n",
    "y_tf = tf.placeholder(tf.float32, shape=(None, 1), name=\"y\")\n",
    "\n",
    "linear_model = tf.layers.Dense(units=1)\n",
    "\n",
    "y_pred = linear_model(x_tf)\n",
    "loss = tf.losses.mean_squared_error(labels=y_tf, predictions=y_pred)\n",
    "\n",
    "optimizer = tf.train.GradientDescentOptimizer(0.01)\n",
    "train = optimizer.minimize(loss)\n",
    "\n",
    "init = tf.global_variables_initializer()\n",
    "\n",
    "sess = tf.Session()\n",
    "sess.run(init)\n",
    "for i in range(100):\n",
    "  _, loss_value = sess.run((train, loss), feed_dict={x_tf: x_train, y_tf: y_train})\n",
    "  # print(loss_value)"
   ]
  },
  {
   "cell_type": "code",
   "execution_count": 31,
   "metadata": {},
   "outputs": [
    {
     "data": {
      "text/plain": [
       "array([False,  True, False,  True,  True,  True,  True,  True, False,\n",
       "       False, False,  True,  True, False,  True, False, False,  True,\n",
       "       False, False,  True, False, False, False, False, False, False,\n",
       "       False, False, False,  True,  True,  True,  True, False, False,\n",
       "       False,  True, False,  True, False, False, False, False,  True,\n",
       "        True, False, False, False, False,  True,  True,  True,  True,\n",
       "        True,  True, False,  True, False, False, False,  True, False,\n",
       "       False,  True, False,  True,  True,  True, False, False,  True,\n",
       "       False,  True,  True, False,  True,  True,  True, False, False,\n",
       "        True, False,  True,  True,  True,  True, False,  True,  True,\n",
       "        True,  True, False,  True, False,  True,  True,  True,  True,\n",
       "       False, False, False,  True, False,  True, False, False, False,\n",
       "       False, False, False,  True, False, False, False,  True,  True,\n",
       "       False, False, False,  True,  True, False,  True, False,  True,\n",
       "       False, False,  True,  True,  True,  True, False, False,  True,\n",
       "        True, False, False,  True,  True, False, False, False, False,\n",
       "       False, False, False, False,  True, False,  True,  True, False,\n",
       "        True, False,  True, False,  True,  True,  True, False, False,\n",
       "        True, False,  True,  True,  True, False,  True,  True, False,\n",
       "        True,  True, False, False, False, False, False,  True,  True,\n",
       "       False,  True, False, False,  True, False,  True, False,  True,\n",
       "        True, False,  True, False, False,  True, False,  True, False,\n",
       "        True, False, False, False, False, False,  True,  True, False,\n",
       "       False,  True, False,  True,  True, False,  True,  True,  True,\n",
       "        True, False,  True,  True,  True,  True,  True, False, False,\n",
       "       False,  True, False,  True,  True, False, False, False,  True,\n",
       "       False,  True, False, False,  True,  True, False, False,  True,\n",
       "        True, False,  True,  True, False, False, False,  True, False,\n",
       "       False,  True,  True,  True, False, False,  True, False, False,\n",
       "        True, False,  True, False, False, False,  True,  True,  True,\n",
       "       False, False,  True,  True, False,  True,  True,  True,  True,\n",
       "        True, False,  True,  True, False, False, False,  True,  True,\n",
       "        True,  True,  True, False, False, False,  True, False,  True,\n",
       "       False, False,  True, False, False, False,  True,  True, False,\n",
       "       False,  True, False, False,  True, False, False, False,  True,\n",
       "       False, False, False,  True,  True, False, False,  True, False,\n",
       "       False,  True, False, False, False, False,  True, False,  True,\n",
       "        True,  True, False, False, False,  True, False,  True,  True,\n",
       "       False,  True, False,  True,  True,  True, False, False, False,\n",
       "       False,  True,  True, False,  True, False, False,  True,  True,\n",
       "       False,  True, False, False,  True,  True, False,  True,  True,\n",
       "       False, False,  True,  True, False, False, False,  True, False,\n",
       "        True, False, False, False, False,  True, False,  True, False,\n",
       "        True, False,  True, False,  True,  True,  True,  True, False,\n",
       "       False,  True, False, False,  True, False, False,  True,  True,\n",
       "        True,  True, False,  True,  True,  True, False,  True, False,\n",
       "        True, False, False,  True,  True, False,  True,  True,  True,\n",
       "        True,  True, False, False,  True, False, False, False,  True,\n",
       "       False,  True, False,  True,  True,  True,  True,  True, False,\n",
       "        True, False, False,  True,  True,  True, False, False,  True,\n",
       "        True, False, False,  True,  True,  True,  True, False,  True,\n",
       "        True, False,  True, False, False,  True,  True,  True,  True,\n",
       "        True,  True, False, False,  True,  True,  True, False, False,\n",
       "        True, False,  True,  True, False,  True,  True,  True, False,\n",
       "       False,  True,  True,  True,  True, False,  True, False, False,\n",
       "       False,  True,  True, False,  True])"
      ]
     },
     "execution_count": 31,
     "metadata": {},
     "output_type": "execute_result"
    }
   ],
   "source": [
    "final_preds = sess.run(y_pred, feed_dict={x_tf: x_test})\n",
    "final_preds = final_preds.squeeze(axis=1)\n",
    "final_preds = final_preds <= 0.5\n"
   ]
  },
  {
   "cell_type": "code",
   "execution_count": 40,
   "metadata": {},
   "outputs": [
    {
     "data": {
      "image/png": "[encoded data removed]",
      "text/plain": [
       "<matplotlib.figure.Figure at 0x1a3189c908>"
      ]
     },
     "metadata": {},
     "output_type": "display_data"
    }
   ],
   "source": [
    "sns.scatterplot(x=x_test[:,0], y=x_test[:,1], hue=final_preds)\n",
    "plt.show()"
   ]
  },
  {
   "cell_type": "code",
   "execution_count": null,
   "metadata": {},
   "outputs": [],
   "source": [
    "x_grid = np"
   ]
  }
 ],
 "metadata": {
  "kernelspec": {
   "display_name": "Python 3",
   "language": "python",
   "name": "python3"
  },
  "language_info": {
   "codemirror_mode": {
    "name": "ipython",
    "version": 3
   },
   "file_extension": ".py",
   "mimetype": "text/x-python",
   "name": "python",
   "nbconvert_exporter": "python",
   "pygments_lexer": "ipython3",
   "version": "3.6.3"
  }
 },
 "nbformat": 4,
 "nbformat_minor": 2
}
